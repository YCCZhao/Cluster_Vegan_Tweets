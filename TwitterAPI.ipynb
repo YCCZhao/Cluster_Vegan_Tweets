{
 "cells": [
  {
   "cell_type": "markdown",
   "metadata": {},
   "source": [
    "# Twitter API"
   ]
  },
  {
   "cell_type": "markdown",
   "metadata": {},
   "source": [
    "## Lecture Notes"
   ]
  },
  {
   "cell_type": "markdown",
   "metadata": {},
   "source": [
    "##### Why Twitter ?\n",
    "\n",
    "\n",
    "\"While physics and math may tell us how the universe began, they are not much use in predicting Human Behavior because there are far too many Equations to Solve\" \n",
    "    \n",
    "    -Stephan Hawking\n",
    "    "
   ]
  },
  {
   "cell_type": "markdown",
   "metadata": {},
   "source": [
    "There are a lot of other great APIs out there as well that you should keep in mind.\n",
    "\n",
    "[Wikipedia](https://www.mediawiki.org/wiki/API:Main_page)  \n",
    "[Stack exchange](https://api.stackexchange.com/docs)  \n",
    "[Spotify](http://spotipy.readthedocs.io/en/latest/)\n",
    "\n",
    "Often there's already a python package with a much easier interface for using the API, like spotipy that's linked to above. "
   ]
  },
  {
   "cell_type": "markdown",
   "metadata": {},
   "source": [
    "#### Rest API vs Streaming API: \n",
    "\n",
    "\n",
    "REST:  \n",
    "    - Query user accounts using OAuth\n",
    "    - Allows you to access 'historical' tweets\n",
    "    - Only lets you access tweets going back 7 days\n",
    "\n",
    "STREAM: \n",
    "    - Essentially long-running request (left Open) using OAuth\n",
    "    - Access realtime stream of data\n",
    "       \n",
    "Check out the [twitter developer documentation](https://developer.twitter.com/en/docs/tweets/search/api-reference/get-search-tweets) for more info."
   ]
  },
  {
   "cell_type": "markdown",
   "metadata": {},
   "source": [
    "#### Rest API"
   ]
  },
  {
   "cell_type": "code",
   "execution_count": 1,
   "metadata": {
    "collapsed": true
   },
   "outputs": [],
   "source": [
    "from __future__ import print_function\n",
    "import pandas as pd"
   ]
  },
  {
   "cell_type": "code",
   "execution_count": 2,
   "metadata": {
    "collapsed": true
   },
   "outputs": [],
   "source": [
    "#!pip install requests_oauthlib"
   ]
  },
  {
   "cell_type": "code",
   "execution_count": 3,
   "metadata": {
    "collapsed": true
   },
   "outputs": [],
   "source": [
    "import requests\n",
    "from requests_oauthlib import OAuth1\n",
    "\n",
    "#OAuth ~ simple way to to publish & interact with data"
   ]
  },
  {
   "cell_type": "code",
   "execution_count": 4,
   "metadata": {
    "collapsed": true
   },
   "outputs": [],
   "source": [
    "#!pip install cnfg"
   ]
  },
  {
   "cell_type": "code",
   "execution_count": 5,
   "metadata": {
    "collapsed": true
   },
   "outputs": [],
   "source": [
    "# Importing our Config - note that with this setup we can safely conceal\n",
    "# our personal keys but still share generalizable code\n",
    "\n",
    "# Replace the path below with the correct path to your config file\n",
    "import cnfg\n",
    "config = cnfg.load(\"/home/ubuntu/Documents/.twitter_config\")\n",
    "\n",
    "oauth = OAuth1(config[\"consumer_key\"],\n",
    "               config[\"consumer_secret\"],\n",
    "               config[\"access_token\"],\n",
    "               config[\"access_token_secret\"])"
   ]
  },
  {
   "cell_type": "code",
   "execution_count": 6,
   "metadata": {},
   "outputs": [
    {
     "name": "stdout",
     "output_type": "stream",
     "text": [
      "created_at\n",
      "id\n",
      "id_str\n",
      "text\n",
      "truncated\n",
      "entities\n",
      "extended_entities\n",
      "source\n",
      "in_reply_to_status_id\n",
      "in_reply_to_status_id_str\n",
      "in_reply_to_user_id\n",
      "in_reply_to_user_id_str\n",
      "in_reply_to_screen_name\n",
      "user\n",
      "geo\n",
      "coordinates\n",
      "place\n",
      "contributors\n",
      "is_quote_status\n",
      "retweet_count\n",
      "favorite_count\n",
      "favorited\n",
      "retweeted\n",
      "possibly_sensitive\n",
      "lang\n"
     ]
    }
   ],
   "source": [
    "response = requests.get(\"https://api.twitter.com/1.1/statuses/user_timeline.json\",\n",
    "                        auth=oauth)\n",
    "\n",
    "tweets = response.json()\n",
    "\n",
    "for key in tweets[0].keys():\n",
    "    print(key)\n",
    "    "
   ]
  },
  {
   "cell_type": "code",
   "execution_count": 7,
   "metadata": {},
   "outputs": [
    {
     "name": "stdout",
     "output_type": "stream",
     "text": [
      "0\n",
      "https://t.co/RxGwfEhT2c\n",
      "0\n",
      "@TheVeganSociety No more choosing phobia.\n",
      "0\n",
      "That's exact my position regarding self-driving car/automation. That's why I became so passionate about education.… https://t.co/WtrrN0IQPG\n",
      "0\n",
      "AI may be coming for your job, but Andrew Ng thinks a new New Deal can help - via @techreview https://t.co/7La9yRwJux\n",
      "0\n",
      "RT @TriMyData: Here is your #MakeoverMonday recap for week 32.\n",
      "Well done everyone on impactful vizzes and #MMVizReview!\n",
      "\n",
      "https://t.co/SPa1t…\n",
      "0\n",
      "RT @drfeifei: Finally! Very excited! Democratize #AI and disseminate AI knowledge! https://t.co/Vn1VSeD6lM\n",
      "0\n",
      "I just published “Rejection Hurts But Pain Keeps Us Alive” https://t.co/3YJSvVT75t\n",
      "3\n",
      "@codechick1 Hey Kristine, I read you posts on Quora on @holbertonschool. I want to enroll, but feel insecure to quit my well paid job.\n"
     ]
    }
   ],
   "source": [
    "# I only have one tweet (I'm not really a twitter user )\n",
    "for tweet in tweets:\n",
    "    print(tweet['favorite_count'])\n",
    "    print(tweet['text'])"
   ]
  },
  {
   "cell_type": "markdown",
   "metadata": {},
   "source": [
    "Now let's use the twitter API to search for 5 tweets that are about our favorite topic."
   ]
  },
  {
   "cell_type": "code",
   "execution_count": 13,
   "metadata": {},
   "outputs": [
    {
     "ename": "TypeError",
     "evalue": "request() got an unexpected keyword argument 'tweet_mode'",
     "output_type": "error",
     "traceback": [
      "\u001b[0;31m---------------------------------------------------------------------------\u001b[0m",
      "\u001b[0;31mTypeError\u001b[0m                                 Traceback (most recent call last)",
      "\u001b[0;32m<ipython-input-13-2ef39c14ffaf>\u001b[0m in \u001b[0;36m<module>\u001b[0;34m()\u001b[0m\n\u001b[1;32m      3\u001b[0m                         \u001b[0mparams\u001b[0m \u001b[0;34m=\u001b[0m \u001b[0mparameters\u001b[0m\u001b[0;34m,\u001b[0m\u001b[0;34m\u001b[0m\u001b[0m\n\u001b[1;32m      4\u001b[0m                         \u001b[0mauth\u001b[0m\u001b[0;34m=\u001b[0m\u001b[0moauth\u001b[0m\u001b[0;34m,\u001b[0m\u001b[0;34m\u001b[0m\u001b[0m\n\u001b[0;32m----> 5\u001b[0;31m                         tweet_mode='extended')\n\u001b[0m\u001b[1;32m      6\u001b[0m \u001b[0;34m\u001b[0m\u001b[0m\n\u001b[1;32m      7\u001b[0m \u001b[0;32mfrom\u001b[0m \u001b[0mpprint\u001b[0m \u001b[0;32mimport\u001b[0m \u001b[0mpprint\u001b[0m\u001b[0;34m\u001b[0m\u001b[0m\n",
      "\u001b[0;32m~/anaconda3/lib/python3.6/site-packages/requests/api.py\u001b[0m in \u001b[0;36mget\u001b[0;34m(url, params, **kwargs)\u001b[0m\n\u001b[1;32m     70\u001b[0m \u001b[0;34m\u001b[0m\u001b[0m\n\u001b[1;32m     71\u001b[0m     \u001b[0mkwargs\u001b[0m\u001b[0;34m.\u001b[0m\u001b[0msetdefault\u001b[0m\u001b[0;34m(\u001b[0m\u001b[0;34m'allow_redirects'\u001b[0m\u001b[0;34m,\u001b[0m \u001b[0;32mTrue\u001b[0m\u001b[0;34m)\u001b[0m\u001b[0;34m\u001b[0m\u001b[0m\n\u001b[0;32m---> 72\u001b[0;31m     \u001b[0;32mreturn\u001b[0m \u001b[0mrequest\u001b[0m\u001b[0;34m(\u001b[0m\u001b[0;34m'get'\u001b[0m\u001b[0;34m,\u001b[0m \u001b[0murl\u001b[0m\u001b[0;34m,\u001b[0m \u001b[0mparams\u001b[0m\u001b[0;34m=\u001b[0m\u001b[0mparams\u001b[0m\u001b[0;34m,\u001b[0m \u001b[0;34m**\u001b[0m\u001b[0mkwargs\u001b[0m\u001b[0;34m)\u001b[0m\u001b[0;34m\u001b[0m\u001b[0m\n\u001b[0m\u001b[1;32m     73\u001b[0m \u001b[0;34m\u001b[0m\u001b[0m\n\u001b[1;32m     74\u001b[0m \u001b[0;34m\u001b[0m\u001b[0m\n",
      "\u001b[0;32m~/anaconda3/lib/python3.6/site-packages/requests/api.py\u001b[0m in \u001b[0;36mrequest\u001b[0;34m(method, url, **kwargs)\u001b[0m\n\u001b[1;32m     56\u001b[0m     \u001b[0;31m# cases, and look like a memory leak in others.\u001b[0m\u001b[0;34m\u001b[0m\u001b[0;34m\u001b[0m\u001b[0m\n\u001b[1;32m     57\u001b[0m     \u001b[0;32mwith\u001b[0m \u001b[0msessions\u001b[0m\u001b[0;34m.\u001b[0m\u001b[0mSession\u001b[0m\u001b[0;34m(\u001b[0m\u001b[0;34m)\u001b[0m \u001b[0;32mas\u001b[0m \u001b[0msession\u001b[0m\u001b[0;34m:\u001b[0m\u001b[0;34m\u001b[0m\u001b[0m\n\u001b[0;32m---> 58\u001b[0;31m         \u001b[0;32mreturn\u001b[0m \u001b[0msession\u001b[0m\u001b[0;34m.\u001b[0m\u001b[0mrequest\u001b[0m\u001b[0;34m(\u001b[0m\u001b[0mmethod\u001b[0m\u001b[0;34m=\u001b[0m\u001b[0mmethod\u001b[0m\u001b[0;34m,\u001b[0m \u001b[0murl\u001b[0m\u001b[0;34m=\u001b[0m\u001b[0murl\u001b[0m\u001b[0;34m,\u001b[0m \u001b[0;34m**\u001b[0m\u001b[0mkwargs\u001b[0m\u001b[0;34m)\u001b[0m\u001b[0;34m\u001b[0m\u001b[0m\n\u001b[0m\u001b[1;32m     59\u001b[0m \u001b[0;34m\u001b[0m\u001b[0m\n\u001b[1;32m     60\u001b[0m \u001b[0;34m\u001b[0m\u001b[0m\n",
      "\u001b[0;31mTypeError\u001b[0m: request() got an unexpected keyword argument 'tweet_mode'"
     ]
    }
   ],
   "source": [
    "parameters = {\"q\": \"vegan\"}\n",
    "response = requests.get(\"https://api.twitter.com/1.1/search/tweets.json\",\n",
    "                        params = parameters,\n",
    "                        auth=oauth)\n",
    "\n",
    "from pprint import pprint\n",
    "pprint(response.json()['search_metadata'])"
   ]
  },
  {
   "cell_type": "code",
   "execution_count": 14,
   "metadata": {},
   "outputs": [
    {
     "name": "stdout",
     "output_type": "stream",
     "text": [
      "PAGE 1\n",
      "968686192899313664 @savannimalz 6 months vegan ♥️♥️♥️♥️ best decision I’ve ever made\n",
      "{'media': [{'id': 967447213705080832, 'id_str': '967447213705080832', 'indices': [36, 59], 'media_url': 'http://pbs.twimg.com/media/DW0QHXfVMAAD6Tt.jpg', 'media_url_https': 'https://pbs.twimg.com/media/DW0QHXfVMAAD6Tt.jpg', 'url': 'https://t.co/ZnpdXl8VVy', 'display_url': 'pic.twitter.com/ZnpdXl8VVy', 'expanded_url': 'https://twitter.com/miliondollameat/status/967447219199709184/photo/1', 'type': 'photo', 'sizes': {'medium': {'w': 749, 'h': 768, 'resize': 'fit'}, 'thumb': {'w': 150, 'h': 150, 'resize': 'crop'}, 'small': {'w': 663, 'h': 680, 'resize': 'fit'}, 'large': {'w': 749, 'h': 768, 'resize': 'fit'}}, 'source_status_id': 967447219199709184, 'source_status_id_str': '967447219199709184', 'source_user_id': 395104995, 'source_user_id_str': '395104995'}]}\n",
      "968686135428837376 @todd_c_sq #MeToo - except I have kids 🤓and helping all beings is what makes life worth living 💕 kick ass vegan food helps 🥗\n",
      "968686134191640577 He told me vegan soul was expensive so you know he still got it for me then i wasn’t hungry no more i felt horrible 😭🤦🏽‍♀️\n",
      "968686131813400577 @HarleyKwyn house rice claypot at Golden Era (@ Golden Gate &amp; Larkin) – it's actually a vegan restaurant but it's so good!\n",
      "968686125891035136 @_HailNya_ @HectorM16794831 @Vegan_Worldd El problema no es que cada quien come lo \"que\" quiere, es que cada quien se come a \"quien\" quiere.\n",
      "968686122502107136 @AtThebigsoup You're vegan Andrew, that's sin.\n",
      "968686113949913089 RT @MercyForAnimals: You don't need to give up cheeses, milk and coffee creamers to go vegan https://t.co/8LndfeRmSG\n",
      "968686104604966912 PLEASE #SHARE!!! Still trying to use up all my #free #tomatoes sooo #salsa it is!!! #vegan #wfpb #healthy… https://t.co/WlX3syJZcE\n",
      "968686092391239681 I'm sure no one's said this to you, but you should go vegan to treat your cancer\n",
      "{'media': [{'id': 968686076134023168, 'id_str': '968686076134023168', 'indices': [79, 102], 'media_url': 'http://pbs.twimg.com/media/DXF22prV4AAaOen.jpg', 'media_url_https': 'https://pbs.twimg.com/media/DXF22prV4AAaOen.jpg', 'url': 'https://t.co/7OQMIlSwUo', 'display_url': 'pic.twitter.com/7OQMIlSwUo', 'expanded_url': 'https://twitter.com/_ericgarland/status/968686078684143616/photo/1', 'type': 'photo', 'sizes': {'thumb': {'w': 150, 'h': 150, 'resize': 'crop'}, 'large': {'w': 1000, 'h': 500, 'resize': 'fit'}, 'medium': {'w': 1000, 'h': 500, 'resize': 'fit'}, 'small': {'w': 680, 'h': 340, 'resize': 'fit'}}}]}\n",
      "{'media': [{'id': 968679785432956929, 'id_str': '968679785432956929', 'indices': [106, 129], 'media_url': 'http://pbs.twimg.com/media/DXFxIe_VQAE-nQo.jpg', 'media_url_https': 'https://pbs.twimg.com/media/DXFxIe_VQAE-nQo.jpg', 'url': 'https://t.co/mPtuAO50VT', 'display_url': 'pic.twitter.com/mPtuAO50VT', 'expanded_url': 'https://twitter.com/planetplayboy/status/968679794098388992/photo/1', 'type': 'photo', 'sizes': {'thumb': {'w': 150, 'h': 150, 'resize': 'crop'}, 'medium': {'w': 1200, 'h': 1200, 'resize': 'fit'}, 'large': {'w': 2048, 'h': 2048, 'resize': 'fit'}, 'small': {'w': 680, 'h': 680, 'resize': 'fit'}}, 'source_status_id': 968679794098388992, 'source_status_id_str': '968679794098388992', 'source_user_id': 2764966536, 'source_user_id_str': '2764966536'}, {'id': 968679785407787008, 'id_str': '968679785407787008', 'indices': [106, 129], 'media_url': 'http://pbs.twimg.com/media/DXFxIe5VMAA4kN-.jpg', 'media_url_https': 'https://pbs.twimg.com/media/DXFxIe5VMAA4kN-.jpg', 'url': 'https://t.co/mPtuAO50VT', 'display_url': 'pic.twitter.com/mPtuAO50VT', 'expanded_url': 'https://twitter.com/planetplayboy/status/968679794098388992/photo/1', 'type': 'photo', 'sizes': {'medium': {'w': 1200, 'h': 1200, 'resize': 'fit'}, 'thumb': {'w': 150, 'h': 150, 'resize': 'crop'}, 'large': {'w': 2048, 'h': 2048, 'resize': 'fit'}, 'small': {'w': 680, 'h': 680, 'resize': 'fit'}}, 'source_status_id': 968679794098388992, 'source_status_id_str': '968679794098388992', 'source_user_id': 2764966536, 'source_user_id_str': '2764966536'}, {'id': 968679785420308480, 'id_str': '968679785420308480', 'indices': [106, 129], 'media_url': 'http://pbs.twimg.com/media/DXFxIe8UQAAKn0m.jpg', 'media_url_https': 'https://pbs.twimg.com/media/DXFxIe8UQAAKn0m.jpg', 'url': 'https://t.co/mPtuAO50VT', 'display_url': 'pic.twitter.com/mPtuAO50VT', 'expanded_url': 'https://twitter.com/planetplayboy/status/968679794098388992/photo/1', 'type': 'photo', 'sizes': {'thumb': {'w': 150, 'h': 150, 'resize': 'crop'}, 'medium': {'w': 1200, 'h': 1200, 'resize': 'fit'}, 'small': {'w': 680, 'h': 680, 'resize': 'fit'}, 'large': {'w': 2048, 'h': 2048, 'resize': 'fit'}}, 'source_status_id': 968679794098388992, 'source_status_id_str': '968679794098388992', 'source_user_id': 2764966536, 'source_user_id_str': '2764966536'}, {'id': 968679785407721472, 'id_str': '968679785407721472', 'indices': [106, 129], 'media_url': 'http://pbs.twimg.com/media/DXFxIe5UMAAS4xX.jpg', 'media_url_https': 'https://pbs.twimg.com/media/DXFxIe5UMAAS4xX.jpg', 'url': 'https://t.co/mPtuAO50VT', 'display_url': 'pic.twitter.com/mPtuAO50VT', 'expanded_url': 'https://twitter.com/planetplayboy/status/968679794098388992/photo/1', 'type': 'photo', 'sizes': {'thumb': {'w': 150, 'h': 150, 'resize': 'crop'}, 'large': {'w': 2048, 'h': 2048, 'resize': 'fit'}, 'medium': {'w': 1200, 'h': 1200, 'resize': 'fit'}, 'small': {'w': 680, 'h': 680, 'resize': 'fit'}}, 'source_status_id': 968679794098388992, 'source_status_id_str': '968679794098388992', 'source_user_id': 2764966536, 'source_user_id_str': '2764966536'}]}\n",
      "{'media': [{'id': 968686050137681926, 'id_str': '968686050137681926', 'indices': [0, 23], 'media_url': 'http://pbs.twimg.com/media/DXF21I1VMAYhR4m.jpg', 'media_url_https': 'https://pbs.twimg.com/media/DXF21I1VMAYhR4m.jpg', 'url': 'https://t.co/lwun6xXG2I', 'display_url': 'pic.twitter.com/lwun6xXG2I', 'expanded_url': 'https://twitter.com/kawaii_vegan/status/968686065287647232/photo/1', 'type': 'photo', 'sizes': {'medium': {'w': 1125, 'h': 841, 'resize': 'fit'}, 'thumb': {'w': 150, 'h': 150, 'resize': 'crop'}, 'small': {'w': 680, 'h': 508, 'resize': 'fit'}, 'large': {'w': 1125, 'h': 841, 'resize': 'fit'}}}]}\n",
      "{'media': [{'id': 967447213705080832, 'id_str': '967447213705080832', 'indices': [36, 59], 'media_url': 'http://pbs.twimg.com/media/DW0QHXfVMAAD6Tt.jpg', 'media_url_https': 'https://pbs.twimg.com/media/DW0QHXfVMAAD6Tt.jpg', 'url': 'https://t.co/ZnpdXl8VVy', 'display_url': 'pic.twitter.com/ZnpdXl8VVy', 'expanded_url': 'https://twitter.com/miliondollameat/status/967447219199709184/photo/1', 'type': 'photo', 'sizes': {'medium': {'w': 749, 'h': 768, 'resize': 'fit'}, 'thumb': {'w': 150, 'h': 150, 'resize': 'crop'}, 'small': {'w': 663, 'h': 680, 'resize': 'fit'}, 'large': {'w': 749, 'h': 768, 'resize': 'fit'}}, 'source_status_id': 967447219199709184, 'source_status_id_str': '967447219199709184', 'source_user_id': 395104995, 'source_user_id_str': '395104995'}]}\n",
      "968686052532801536 RT @kalenminaj: BREAKING NEWS: Mariah Carey has officially become a gas, making her the skinniest person alive. She says she achieved this…\n"
     ]
    }
   ],
   "source": [
    "tweets = response.json()['statuses']\n",
    "\n",
    "print('PAGE 1')\n",
    "for tweet in tweets:\n",
    "    try:\n",
    "        'here'\n",
    "        print(tweet['extended_entities'])\n",
    "    except:\n",
    "        print(tweet['id'], tweet['text'])"
   ]
  },
  {
   "cell_type": "code",
   "execution_count": 10,
   "metadata": {},
   "outputs": [
    {
     "name": "stdout",
     "output_type": "stream",
     "text": [
      "PAGE 2\n",
      "RT @kalenminaj: BREAKING NEWS: Mariah Carey has officially become a gas, making her the skinniest person alive. She says she achieved this…\n",
      "RT @Notherepauline: Lisa :\n",
      "\n",
      "- Vegan / activiste / féministe / ecolo\n",
      "- Vote pour Mélenchon \n",
      "- Un peu chiante \n",
      "- Son fond d'écran c'est le da…\n",
      "RT @Lovelypuppies_: My first day of work! 🐶⛱️🚣‍♀️\n",
      "#Puppies #dogs #PetsAreFamily #lovedogs #labradorretriever #RescueDogs #LoveYourPetDay #V…\n",
      "RT @Lovelypuppies_: My first day of work! 🐶⛱️🚣‍♀️\n",
      "#Puppies #dogs #PetsAreFamily #lovedogs #labradorretriever #RescueDogs #LoveYourPetDay #V…\n",
      "RT @isobelwenham: u know what, if you don't have the willpower to go vegan or even veggie, fine, fairs but if ur really gunna complain abou…\n",
      "@1andonlyfran Lmfao literally as I wrote it I was like #notspons\n",
      "RT @MarlowFM: Don't miss #London2012 Olympic Champion @EtienneStott on @MarlowFM tomorrow (Monday) 7pm-9pm on the Watt Next Show with Dave…\n",
      "Please donate to 501(c)3 @GoVeganRadio - it will  help toward creating a reggaeVEGANfest in Southern California, as… https://t.co/bRBUW0HDuy\n",
      "@LauriDMeizler Thank you for following! Please visit https://t.co/BPxysWbilR  to invest in our Keep Healthy  Vegan,… https://t.co/Sy8rRB5ET6\n",
      "RT @kalenminaj: BREAKING NEWS: Mariah Carey has officially become a gas, making her the skinniest person alive. She says she achieved this…\n",
      "RT @VeganStella: The #carbonfootprint of #meat #fish &amp; #dairy is greater than any other foods. If #climatechange concerns you (which it sho…\n",
      "RT @wevegan: #ChooseYourFuture \n",
      "It can be a future of supporting animal genocide. Or it could be #plantbased and #Vegan\n",
      "#VeganisPeace https…\n",
      "RT @VeganStella: The #carbonfootprint of #meat #fish &amp; #dairy is greater than any other foods. If #climatechange concerns you (which it sho…\n",
      "RT @kalenminaj: BREAKING NEWS: Mariah Carey has officially become a gas, making her the skinniest person alive. She says she achieved this…\n",
      "RT @Lovelypuppies_: Would you have a walk with her? ❤️\n",
      "\n",
      "#cute #sweet #sweety #love #loveyourpet #LoveYourPetDay #Perritos #perros #dog #veg…\n"
     ]
    }
   ],
   "source": [
    "search_url = \"https://api.twitter.com/1.1/search/tweets.json\"\n",
    "next_page_url = search_url + response.json()['search_metadata']['next_results']\n",
    "\n",
    "response = requests.get(next_page_url, auth=oauth)\n",
    "\n",
    "print('PAGE 2')\n",
    "for tweet in response.json()['statuses']:\n",
    "    print(tweet['text'])"
   ]
  },
  {
   "cell_type": "markdown",
   "metadata": {},
   "source": [
    "#### STREAMING API ~ TWEEPY"
   ]
  },
  {
   "cell_type": "code",
   "execution_count": 14,
   "metadata": {},
   "outputs": [
    {
     "name": "stdout",
     "output_type": "stream",
     "text": [
      "Collecting tweepy\n",
      "  Downloading tweepy-3.5.0-py2.py3-none-any.whl\n",
      "Requirement already satisfied: requests>=2.4.3 in /home/ubuntu/anaconda3/lib/python3.6/site-packages (from tweepy)\n",
      "Requirement already satisfied: six>=1.7.3 in /home/ubuntu/anaconda3/lib/python3.6/site-packages (from tweepy)\n",
      "Requirement already satisfied: requests-oauthlib>=0.4.1 in /home/ubuntu/anaconda3/lib/python3.6/site-packages (from tweepy)\n",
      "Requirement already satisfied: chardet<3.1.0,>=3.0.2 in /home/ubuntu/anaconda3/lib/python3.6/site-packages (from requests>=2.4.3->tweepy)\n",
      "Requirement already satisfied: idna<2.7,>=2.5 in /home/ubuntu/anaconda3/lib/python3.6/site-packages (from requests>=2.4.3->tweepy)\n",
      "Requirement already satisfied: urllib3<1.23,>=1.21.1 in /home/ubuntu/anaconda3/lib/python3.6/site-packages (from requests>=2.4.3->tweepy)\n",
      "Requirement already satisfied: certifi>=2017.4.17 in /home/ubuntu/anaconda3/lib/python3.6/site-packages (from requests>=2.4.3->tweepy)\n",
      "Requirement already satisfied: oauthlib>=0.6.2 in /home/ubuntu/anaconda3/lib/python3.6/site-packages (from requests-oauthlib>=0.4.1->tweepy)\n",
      "Installing collected packages: tweepy\n",
      "Successfully installed tweepy-3.5.0\n"
     ]
    }
   ],
   "source": [
    "!pip install tweepy"
   ]
  },
  {
   "cell_type": "code",
   "execution_count": 26,
   "metadata": {
    "collapsed": true
   },
   "outputs": [],
   "source": [
    "import tweepy\n",
    "\n",
    "auth = tweepy.OAuthHandler(config[\"consumer_key\"],\n",
    "                           config[\"consumer_secret\"])\n",
    "auth.set_access_token(config[\"access_token\"],\n",
    "                      config[\"access_token_secret\"])\n",
    "\n",
    "api=tweepy.API(auth)"
   ]
  },
  {
   "cell_type": "code",
   "execution_count": 27,
   "metadata": {},
   "outputs": [
    {
     "name": "stdout",
     "output_type": "stream",
     "text": [
      "Status(_api=<tweepy.api.API object at 0x7f6d4679d908>, _json={'created_at': 'Sun Feb 25 01:32:11 +0000 2018', 'id': 967572902500433920, 'id_str': '967572902500433920', 'text': \"Me: let's have lunch at a vegan spot.\\nBro: alright I'm down.\\n*Post lunch*\\nBro: let's go to Knott's.\\nMe: alright I'm… https://t.co/aTbQPW9iKx\", 'truncated': True, 'entities': {'hashtags': [], 'symbols': [], 'user_mentions': [], 'urls': [{'url': 'https://t.co/aTbQPW9iKx', 'expanded_url': 'https://twitter.com/i/web/status/967572902500433920', 'display_url': 'twitter.com/i/web/status/9…', 'indices': [117, 140]}]}, 'metadata': {'iso_language_code': 'en', 'result_type': 'recent'}, 'source': '<a href=\"http://twitter.com/download/android\" rel=\"nofollow\">Twitter for Android</a>', 'in_reply_to_status_id': None, 'in_reply_to_status_id_str': None, 'in_reply_to_user_id': None, 'in_reply_to_user_id_str': None, 'in_reply_to_screen_name': None, 'user': {'id': 775054538591997952, 'id_str': '775054538591997952', 'name': 'priscilla villalvazo', 'screen_name': 'pmarieveee', 'location': 'Los Angeles, CA', 'description': 'laugh with me. listen to music with me. share your favorite books with me.', 'url': 'https://t.co/1VldEsheIo', 'entities': {'url': {'urls': [{'url': 'https://t.co/1VldEsheIo', 'expanded_url': 'http://vsco.co/phototakerp', 'display_url': 'vsco.co/phototakerp', 'indices': [0, 23]}]}, 'description': {'urls': []}}, 'protected': False, 'followers_count': 20, 'friends_count': 135, 'listed_count': 0, 'created_at': 'Sun Sep 11 19:32:56 +0000 2016', 'favourites_count': 211, 'utc_offset': None, 'time_zone': None, 'geo_enabled': False, 'verified': False, 'statuses_count': 123, 'lang': 'en', 'contributors_enabled': False, 'is_translator': False, 'is_translation_enabled': False, 'profile_background_color': 'F5F8FA', 'profile_background_image_url': None, 'profile_background_image_url_https': None, 'profile_background_tile': False, 'profile_image_url': 'http://pbs.twimg.com/profile_images/961157074846732288/zqiblwFi_normal.jpg', 'profile_image_url_https': 'https://pbs.twimg.com/profile_images/961157074846732288/zqiblwFi_normal.jpg', 'profile_banner_url': 'https://pbs.twimg.com/profile_banners/775054538591997952/1515129455', 'profile_link_color': '1DA1F2', 'profile_sidebar_border_color': 'C0DEED', 'profile_sidebar_fill_color': 'DDEEF6', 'profile_text_color': '333333', 'profile_use_background_image': True, 'has_extended_profile': True, 'default_profile': True, 'default_profile_image': False, 'following': False, 'follow_request_sent': False, 'notifications': False, 'translator_type': 'none'}, 'geo': None, 'coordinates': None, 'place': None, 'contributors': None, 'is_quote_status': False, 'retweet_count': 0, 'favorite_count': 0, 'favorited': False, 'retweeted': False, 'possibly_sensitive': False, 'lang': 'en'}, created_at=datetime.datetime(2018, 2, 25, 1, 32, 11), id=967572902500433920, id_str='967572902500433920', text=\"Me: let's have lunch at a vegan spot.\\nBro: alright I'm down.\\n*Post lunch*\\nBro: let's go to Knott's.\\nMe: alright I'm… https://t.co/aTbQPW9iKx\", truncated=True, entities={'hashtags': [], 'symbols': [], 'user_mentions': [], 'urls': [{'url': 'https://t.co/aTbQPW9iKx', 'expanded_url': 'https://twitter.com/i/web/status/967572902500433920', 'display_url': 'twitter.com/i/web/status/9…', 'indices': [117, 140]}]}, metadata={'iso_language_code': 'en', 'result_type': 'recent'}, source='Twitter for Android', source_url='http://twitter.com/download/android', in_reply_to_status_id=None, in_reply_to_status_id_str=None, in_reply_to_user_id=None, in_reply_to_user_id_str=None, in_reply_to_screen_name=None, author=User(_api=<tweepy.api.API object at 0x7f6d4679d908>, _json={'id': 775054538591997952, 'id_str': '775054538591997952', 'name': 'priscilla villalvazo', 'screen_name': 'pmarieveee', 'location': 'Los Angeles, CA', 'description': 'laugh with me. listen to music with me. share your favorite books with me.', 'url': 'https://t.co/1VldEsheIo', 'entities': {'url': {'urls': [{'url': 'https://t.co/1VldEsheIo', 'expanded_url': 'http://vsco.co/phototakerp', 'display_url': 'vsco.co/phototakerp', 'indices': [0, 23]}]}, 'description': {'urls': []}}, 'protected': False, 'followers_count': 20, 'friends_count': 135, 'listed_count': 0, 'created_at': 'Sun Sep 11 19:32:56 +0000 2016', 'favourites_count': 211, 'utc_offset': None, 'time_zone': None, 'geo_enabled': False, 'verified': False, 'statuses_count': 123, 'lang': 'en', 'contributors_enabled': False, 'is_translator': False, 'is_translation_enabled': False, 'profile_background_color': 'F5F8FA', 'profile_background_image_url': None, 'profile_background_image_url_https': None, 'profile_background_tile': False, 'profile_image_url': 'http://pbs.twimg.com/profile_images/961157074846732288/zqiblwFi_normal.jpg', 'profile_image_url_https': 'https://pbs.twimg.com/profile_images/961157074846732288/zqiblwFi_normal.jpg', 'profile_banner_url': 'https://pbs.twimg.com/profile_banners/775054538591997952/1515129455', 'profile_link_color': '1DA1F2', 'profile_sidebar_border_color': 'C0DEED', 'profile_sidebar_fill_color': 'DDEEF6', 'profile_text_color': '333333', 'profile_use_background_image': True, 'has_extended_profile': True, 'default_profile': True, 'default_profile_image': False, 'following': False, 'follow_request_sent': False, 'notifications': False, 'translator_type': 'none'}, id=775054538591997952, id_str='775054538591997952', name='priscilla villalvazo', screen_name='pmarieveee', location='Los Angeles, CA', description='laugh with me. listen to music with me. share your favorite books with me.', url='https://t.co/1VldEsheIo', entities={'url': {'urls': [{'url': 'https://t.co/1VldEsheIo', 'expanded_url': 'http://vsco.co/phototakerp', 'display_url': 'vsco.co/phototakerp', 'indices': [0, 23]}]}, 'description': {'urls': []}}, protected=False, followers_count=20, friends_count=135, listed_count=0, created_at=datetime.datetime(2016, 9, 11, 19, 32, 56), favourites_count=211, utc_offset=None, time_zone=None, geo_enabled=False, verified=False, statuses_count=123, lang='en', contributors_enabled=False, is_translator=False, is_translation_enabled=False, profile_background_color='F5F8FA', profile_background_image_url=None, profile_background_image_url_https=None, profile_background_tile=False, profile_image_url='http://pbs.twimg.com/profile_images/961157074846732288/zqiblwFi_normal.jpg', profile_image_url_https='https://pbs.twimg.com/profile_images/961157074846732288/zqiblwFi_normal.jpg', profile_banner_url='https://pbs.twimg.com/profile_banners/775054538591997952/1515129455', profile_link_color='1DA1F2', profile_sidebar_border_color='C0DEED', profile_sidebar_fill_color='DDEEF6', profile_text_color='333333', profile_use_background_image=True, has_extended_profile=True, default_profile=True, default_profile_image=False, following=False, follow_request_sent=False, notifications=False, translator_type='none'), user=User(_api=<tweepy.api.API object at 0x7f6d4679d908>, _json={'id': 775054538591997952, 'id_str': '775054538591997952', 'name': 'priscilla villalvazo', 'screen_name': 'pmarieveee', 'location': 'Los Angeles, CA', 'description': 'laugh with me. listen to music with me. share your favorite books with me.', 'url': 'https://t.co/1VldEsheIo', 'entities': {'url': {'urls': [{'url': 'https://t.co/1VldEsheIo', 'expanded_url': 'http://vsco.co/phototakerp', 'display_url': 'vsco.co/phototakerp', 'indices': [0, 23]}]}, 'description': {'urls': []}}, 'protected': False, 'followers_count': 20, 'friends_count': 135, 'listed_count': 0, 'created_at': 'Sun Sep 11 19:32:56 +0000 2016', 'favourites_count': 211, 'utc_offset': None, 'time_zone': None, 'geo_enabled': False, 'verified': False, 'statuses_count': 123, 'lang': 'en', 'contributors_enabled': False, 'is_translator': False, 'is_translation_enabled': False, 'profile_background_color': 'F5F8FA', 'profile_background_image_url': None, 'profile_background_image_url_https': None, 'profile_background_tile': False, 'profile_image_url': 'http://pbs.twimg.com/profile_images/961157074846732288/zqiblwFi_normal.jpg', 'profile_image_url_https': 'https://pbs.twimg.com/profile_images/961157074846732288/zqiblwFi_normal.jpg', 'profile_banner_url': 'https://pbs.twimg.com/profile_banners/775054538591997952/1515129455', 'profile_link_color': '1DA1F2', 'profile_sidebar_border_color': 'C0DEED', 'profile_sidebar_fill_color': 'DDEEF6', 'profile_text_color': '333333', 'profile_use_background_image': True, 'has_extended_profile': True, 'default_profile': True, 'default_profile_image': False, 'following': False, 'follow_request_sent': False, 'notifications': False, 'translator_type': 'none'}, id=775054538591997952, id_str='775054538591997952', name='priscilla villalvazo', screen_name='pmarieveee', location='Los Angeles, CA', description='laugh with me. listen to music with me. share your favorite books with me.', url='https://t.co/1VldEsheIo', entities={'url': {'urls': [{'url': 'https://t.co/1VldEsheIo', 'expanded_url': 'http://vsco.co/phototakerp', 'display_url': 'vsco.co/phototakerp', 'indices': [0, 23]}]}, 'description': {'urls': []}}, protected=False, followers_count=20, friends_count=135, listed_count=0, created_at=datetime.datetime(2016, 9, 11, 19, 32, 56), favourites_count=211, utc_offset=None, time_zone=None, geo_enabled=False, verified=False, statuses_count=123, lang='en', contributors_enabled=False, is_translator=False, is_translation_enabled=False, profile_background_color='F5F8FA', profile_background_image_url=None, profile_background_image_url_https=None, profile_background_tile=False, profile_image_url='http://pbs.twimg.com/profile_images/961157074846732288/zqiblwFi_normal.jpg', profile_image_url_https='https://pbs.twimg.com/profile_images/961157074846732288/zqiblwFi_normal.jpg', profile_banner_url='https://pbs.twimg.com/profile_banners/775054538591997952/1515129455', profile_link_color='1DA1F2', profile_sidebar_border_color='C0DEED', profile_sidebar_fill_color='DDEEF6', profile_text_color='333333', profile_use_background_image=True, has_extended_profile=True, default_profile=True, default_profile_image=False, following=False, follow_request_sent=False, notifications=False, translator_type='none'), geo=None, coordinates=None, place=None, contributors=None, is_quote_status=False, retweet_count=0, favorite_count=0, favorited=False, retweeted=False, possibly_sensitive=False, lang='en')\n"
     ]
    }
   ],
   "source": [
    "max_tweets=1\n",
    "\n",
    "#Tweepy Cursor handles pagination .. \n",
    "\n",
    "for tweet in tweepy.Cursor(api.search,q=\"vegan\").items(max_tweets):\n",
    "    print(tweet)"
   ]
  },
  {
   "cell_type": "code",
   "execution_count": 28,
   "metadata": {
    "collapsed": true
   },
   "outputs": [],
   "source": [
    "results=[]\n",
    "\n",
    "for tweet in tweepy.Cursor(api.search,q=\"vegan\").items(10):\n",
    "    results.append(tweet)"
   ]
  },
  {
   "cell_type": "markdown",
   "metadata": {},
   "source": [
    "#### Import tweets into Pandas"
   ]
  },
  {
   "cell_type": "code",
   "execution_count": 29,
   "metadata": {
    "collapsed": true
   },
   "outputs": [],
   "source": [
    "#  import pandas as pd\n",
    "def structure_results(results):\n",
    "    id_list=[tweet.id for tweet in results]\n",
    "    data=pd.DataFrame(id_list,columns=['id'])\n",
    "    \n",
    "    data[\"text\"]= [tweet.text.encode('utf-8') for tweet in results]\n",
    "    data[\"datetime\"]=[tweet.created_at for tweet in results]\n",
    "    data[\"Location\"]=[tweet.place for tweet in results]\n",
    "    \n",
    "    return data"
   ]
  },
  {
   "cell_type": "code",
   "execution_count": 30,
   "metadata": {},
   "outputs": [
    {
     "data": {
      "text/html": [
       "<div>\n",
       "<style>\n",
       "    .dataframe thead tr:only-child th {\n",
       "        text-align: right;\n",
       "    }\n",
       "\n",
       "    .dataframe thead th {\n",
       "        text-align: left;\n",
       "    }\n",
       "\n",
       "    .dataframe tbody tr th {\n",
       "        vertical-align: top;\n",
       "    }\n",
       "</style>\n",
       "<table border=\"1\" class=\"dataframe\">\n",
       "  <thead>\n",
       "    <tr style=\"text-align: right;\">\n",
       "      <th></th>\n",
       "      <th>id</th>\n",
       "      <th>text</th>\n",
       "      <th>datetime</th>\n",
       "      <th>Location</th>\n",
       "    </tr>\n",
       "  </thead>\n",
       "  <tbody>\n",
       "    <tr>\n",
       "      <th>0</th>\n",
       "      <td>967572902500433920</td>\n",
       "      <td>b\"Me: let's have lunch at a vegan spot.\\nBro: ...</td>\n",
       "      <td>2018-02-25 01:32:11</td>\n",
       "      <td>None</td>\n",
       "    </tr>\n",
       "    <tr>\n",
       "      <th>1</th>\n",
       "      <td>967572901175021569</td>\n",
       "      <td>b'I need more vegetarian/vegan friends bc I ha...</td>\n",
       "      <td>2018-02-25 01:32:10</td>\n",
       "      <td>Place(_api=&lt;tweepy.api.API object at 0x7f6d467...</td>\n",
       "    </tr>\n",
       "    <tr>\n",
       "      <th>2</th>\n",
       "      <td>967572895521263616</td>\n",
       "      <td>b'RT @miliondollameat: all vegan baby https://...</td>\n",
       "      <td>2018-02-25 01:32:09</td>\n",
       "      <td>None</td>\n",
       "    </tr>\n",
       "    <tr>\n",
       "      <th>3</th>\n",
       "      <td>967572886088187905</td>\n",
       "      <td>b'\\xf0\\x9f\\x98\\x86\\xf0\\x9f\\x98\\x86 from @caile...</td>\n",
       "      <td>2018-02-25 01:32:07</td>\n",
       "      <td>None</td>\n",
       "    </tr>\n",
       "    <tr>\n",
       "      <th>4</th>\n",
       "      <td>967572885761155072</td>\n",
       "      <td>b'RT @EllenXiaoting: The TRUTH WILL BLOW YOU A...</td>\n",
       "      <td>2018-02-25 01:32:07</td>\n",
       "      <td>None</td>\n",
       "    </tr>\n",
       "  </tbody>\n",
       "</table>\n",
       "</div>"
      ],
      "text/plain": [
       "                   id                                               text  \\\n",
       "0  967572902500433920  b\"Me: let's have lunch at a vegan spot.\\nBro: ...   \n",
       "1  967572901175021569  b'I need more vegetarian/vegan friends bc I ha...   \n",
       "2  967572895521263616  b'RT @miliondollameat: all vegan baby https://...   \n",
       "3  967572886088187905  b'\\xf0\\x9f\\x98\\x86\\xf0\\x9f\\x98\\x86 from @caile...   \n",
       "4  967572885761155072  b'RT @EllenXiaoting: The TRUTH WILL BLOW YOU A...   \n",
       "\n",
       "             datetime                                           Location  \n",
       "0 2018-02-25 01:32:11                                               None  \n",
       "1 2018-02-25 01:32:10  Place(_api=<tweepy.api.API object at 0x7f6d467...  \n",
       "2 2018-02-25 01:32:09                                               None  \n",
       "3 2018-02-25 01:32:07                                               None  \n",
       "4 2018-02-25 01:32:07                                               None  "
      ]
     },
     "execution_count": 30,
     "metadata": {},
     "output_type": "execute_result"
    }
   ],
   "source": [
    "data=structure_results(results)\n",
    "data.head()"
   ]
  },
  {
   "cell_type": "markdown",
   "metadata": {},
   "source": [
    "For more on tweepy and using it to set up a true stream, check out the [tweepy doc](http://docs.tweepy.org/en/v3.4.0/streaming_how_to.html) as well as this [nice guide from dataquest](https://www.dataquest.io/blog/streaming-data-python/). \n",
    "\n",
    "Combining these steps with writing to a mongo database as below, you can setup a live data acquisition pipeline that continually grabs data from twitter as tweets hit and stores them locally for later static analysis/modeling. We'll show an example at the very bottom of the notebook."
   ]
  },
  {
   "cell_type": "markdown",
   "metadata": {},
   "source": [
    "#### Import Tweets into MongoDB\n",
    "\n",
    "Install mongo locally with brew:    \n",
    "```\n",
    "brew update    \n",
    "brew install mongodb\n",
    "```\n",
    "After downloading mongo, we want to create a place for mongo data files to live.  Run:    \n",
    "```\n",
    "sudo mkdir -p /data/db\n",
    "```\n",
    "Make sure that /data/db directory has the right permissions:\n",
    "\n",
    "```\n",
    "sudo chown `active_username` /data/db\n",
    "(enter password) \n",
    "```\n",
    "\n",
    "(username ~ is just mac username (you can double\n",
    "check this by running 'whoami' in the terminal)\n",
    "\n",
    "\n",
    "Run mongo daemon:\n",
    "```\n",
    "mongod\n",
    "```\n",
    "\n",
    "(In order to access direct mongo functionality, you can just\n",
    "run 'mongo' in a separate terminal)\n",
    "\n",
    "Once the mongo daemon is running, we can create a **database** \"example\" with a **collection** \"datascience\" as below. Note that the database and collection only exist once we insert tweets into them, since mongo is lazy by design."
   ]
  },
  {
   "cell_type": "code",
   "execution_count": 32,
   "metadata": {},
   "outputs": [
    {
     "name": "stdout",
     "output_type": "stream",
     "text": [
      "Collecting pymongo\n",
      "  Downloading pymongo-3.6.0-cp36-cp36m-manylinux1_x86_64.whl (378kB)\n",
      "\u001b[K    100% |████████████████████████████████| 378kB 2.8MB/s eta 0:00:01\n",
      "\u001b[?25hInstalling collected packages: pymongo\n",
      "Successfully installed pymongo-3.6.0\n"
     ]
    }
   ],
   "source": [
    "!pip install pymongo"
   ]
  },
  {
   "cell_type": "code",
   "execution_count": 33,
   "metadata": {
    "collapsed": true
   },
   "outputs": [],
   "source": [
    "import json\n",
    "from pymongo import MongoClient\n",
    "\n",
    "\n",
    "client = MongoClient(port=27017)\n",
    "db = client.example\n",
    "tweets = db.datascience"
   ]
  },
  {
   "cell_type": "code",
   "execution_count": 35,
   "metadata": {
    "collapsed": true
   },
   "outputs": [],
   "source": [
    "for tweet in results:\n",
    "    data={}\n",
    "    data['tweet']=tweet.text.encode('utf-8') \n",
    "    data['datetime']=tweet.created_at\n",
    "    tweets.insert_one(data)"
   ]
  },
  {
   "cell_type": "code",
   "execution_count": 36,
   "metadata": {},
   "outputs": [
    {
     "data": {
      "text/plain": [
       "{'_id': ObjectId('5a921430527f160bea578b1c'),\n",
       " 'datetime': datetime.datetime(2018, 2, 25, 1, 32, 11),\n",
       " 'tweet': b\"Me: let's have lunch at a vegan spot.\\nBro: alright I'm down.\\n*Post lunch*\\nBro: let's go to Knott's.\\nMe: alright I'm\\xe2\\x80\\xa6 https://t.co/aTbQPW9iKx\"}"
      ]
     },
     "execution_count": 36,
     "metadata": {},
     "output_type": "execute_result"
    }
   ],
   "source": [
    "tweets.find_one()"
   ]
  },
  {
   "cell_type": "code",
   "execution_count": 37,
   "metadata": {},
   "outputs": [
    {
     "data": {
      "text/plain": [
       "Collection(Database(MongoClient(host=['localhost:27017'], document_class=dict, tz_aware=False, connect=True), 'example'), 'datascience')"
      ]
     },
     "execution_count": 37,
     "metadata": {},
     "output_type": "execute_result"
    }
   ],
   "source": [
    "tweets"
   ]
  },
  {
   "cell_type": "code",
   "execution_count": 38,
   "metadata": {},
   "outputs": [
    {
     "data": {
      "text/plain": [
       "10"
      ]
     },
     "execution_count": 38,
     "metadata": {},
     "output_type": "execute_result"
    }
   ],
   "source": [
    "tweets.count()"
   ]
  },
  {
   "cell_type": "markdown",
   "metadata": {},
   "source": [
    "Finally, here is a quick example of pulling it all together into a live data acquisition feed/store. This will run continually and grab new tweets as they hit if it doesn't error, so let's leave it for about a minute and see what we get. You should have mongod still running for this.\n",
    "\n",
    "If you want to use this for a project, you'll want to add some robustness to the stream listener - check out the tweepy doc for more info."
   ]
  },
  {
   "cell_type": "code",
   "execution_count": null,
   "metadata": {
    "collapsed": true
   },
   "outputs": [],
   "source": [
    "client = MongoClient(port=27017)\n",
    "db = client.example_live\n",
    "livetweets = db.datascience\n",
    "\n",
    "livetweets.drop() # only if we want to start from scratch\n",
    "\n",
    "class StreamListener(tweepy.StreamListener):\n",
    "\n",
    "    def on_status(self, status):\n",
    "        \n",
    "        # skip retweets\n",
    "        if status.retweeted: \n",
    "            return\n",
    "    \n",
    "        # store tweet and creation date\n",
    "        data = {}\n",
    "        data['tweet'] = status.text\n",
    "        data['datetime'] = status.created_at\n",
    "\n",
    "        # insert into db\n",
    "        try:\n",
    "            livetweets.insert_one(data)\n",
    "        except:\n",
    "            pass\n",
    "\n",
    "stream_listener = StreamListener()\n",
    "stream = tweepy.Stream(auth=api.auth, listener=stream_listener)\n",
    "stream.filter(track=['data science'])"
   ]
  },
  {
   "cell_type": "code",
   "execution_count": null,
   "metadata": {
    "collapsed": true
   },
   "outputs": [],
   "source": [
    "livetweets.count()"
   ]
  },
  {
   "cell_type": "code",
   "execution_count": null,
   "metadata": {
    "collapsed": true
   },
   "outputs": [],
   "source": [
    "livetweets.find_one()"
   ]
  },
  {
   "cell_type": "markdown",
   "metadata": {},
   "source": [
    "Nice!"
   ]
  },
  {
   "cell_type": "code",
   "execution_count": null,
   "metadata": {
    "collapsed": true
   },
   "outputs": [],
   "source": []
  }
 ],
 "metadata": {
  "anaconda-cloud": {},
  "kernelspec": {
   "display_name": "Python 3",
   "language": "python",
   "name": "python3"
  },
  "language_info": {
   "codemirror_mode": {
    "name": "ipython",
    "version": 3
   },
   "file_extension": ".py",
   "mimetype": "text/x-python",
   "name": "python",
   "nbconvert_exporter": "python",
   "pygments_lexer": "ipython3",
   "version": "3.6.3"
  }
 },
 "nbformat": 4,
 "nbformat_minor": 1
}
