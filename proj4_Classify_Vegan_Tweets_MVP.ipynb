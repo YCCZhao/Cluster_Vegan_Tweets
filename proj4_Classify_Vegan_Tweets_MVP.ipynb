{
 "cells": [
  {
   "cell_type": "markdown",
   "metadata": {},
   "source": [
    "# Import Libraries"
   ]
  },
  {
   "cell_type": "code",
   "execution_count": 1,
   "metadata": {
    "collapsed": true
   },
   "outputs": [],
   "source": [
    "import pickle\n",
    "import json\n",
    "import matplotlib.pyplot as plt\n",
    "import pymongo\n",
    "from bson.son import SON\n",
    "from pymongo import MongoClient\n",
    "from sklearn.feature_extraction.text import CountVectorizer\n",
    "\n",
    "%matplotlib inline"
   ]
  },
  {
   "cell_type": "markdown",
   "metadata": {},
   "source": [
    "# Import Some Data for MVP Models"
   ]
  },
  {
   "cell_type": "code",
   "execution_count": 2,
   "metadata": {
    "collapsed": true
   },
   "outputs": [],
   "source": [
    "#client = MongoClient(port=27017)\n",
    "#db = client.tweet_on_vegan\n",
    "#popular_tweets = db.streaming_tweets\n",
    "#texts = popular_tweets.find({}, {'_id':1,\"id\":1,\"text\":1,'is_retweet':1}).skip(116500).limit(100)\n",
    "#for text in texts:\n",
    "    #pass\n",
    "    #print(text)"
   ]
  },
  {
   "cell_type": "code",
   "execution_count": 3,
   "metadata": {
    "collapsed": true
   },
   "outputs": [],
   "source": [
    "client = MongoClient(port=27017)\n",
    "db = client.tweet_on_vegan\n",
    "popular_tweets = db.streaming_tweets\n",
    "texts = popular_tweets.find({'lang':'en'}, {'_id':0,\"text\":1}).limit(115000)\n",
    "tweets = [text['text'] for text in texts]"
   ]
  },
  {
   "cell_type": "code",
   "execution_count": 4,
   "metadata": {},
   "outputs": [
    {
     "data": {
      "text/html": [
       "<div>\n",
       "<style>\n",
       "    .dataframe thead tr:only-child th {\n",
       "        text-align: right;\n",
       "    }\n",
       "\n",
       "    .dataframe thead th {\n",
       "        text-align: left;\n",
       "    }\n",
       "\n",
       "    .dataframe tbody tr th {\n",
       "        vertical-align: top;\n",
       "    }\n",
       "</style>\n",
       "<table border=\"1\" class=\"dataframe\">\n",
       "  <thead>\n",
       "    <tr style=\"text-align: right;\">\n",
       "      <th></th>\n",
       "      <th>tweets</th>\n",
       "    </tr>\n",
       "  </thead>\n",
       "  <tbody>\n",
       "    <tr>\n",
       "      <th>24748</th>\n",
       "      <td>yes i'm vegan. yes i eat meat. we exist.</td>\n",
       "    </tr>\n",
       "    <tr>\n",
       "      <th>79459</th>\n",
       "      <td>Don't forget to go to @Food_CU today from 12pm...</td>\n",
       "    </tr>\n",
       "    <tr>\n",
       "      <th>71884</th>\n",
       "      <td>Your protein guide. #vegan #protein https://t....</td>\n",
       "    </tr>\n",
       "    <tr>\n",
       "      <th>89575</th>\n",
       "      <td>Looking forward to enjoying this @DearCocoChoc...</td>\n",
       "    </tr>\n",
       "    <tr>\n",
       "      <th>102665</th>\n",
       "      <td>@_Alfista I think people might notice when I'm...</td>\n",
       "    </tr>\n",
       "  </tbody>\n",
       "</table>\n",
       "</div>"
      ],
      "text/plain": [
       "                                                   tweets\n",
       "24748            yes i'm vegan. yes i eat meat. we exist.\n",
       "79459   Don't forget to go to @Food_CU today from 12pm...\n",
       "71884   Your protein guide. #vegan #protein https://t....\n",
       "89575   Looking forward to enjoying this @DearCocoChoc...\n",
       "102665  @_Alfista I think people might notice when I'm..."
      ]
     },
     "execution_count": 4,
     "metadata": {},
     "output_type": "execute_result"
    }
   ],
   "source": [
    "import pandas as pd\n",
    "mvp_tweets = pd.DataFrame(tweets, columns=['tweets'])\n",
    "mvp_tweets.sample(5)"
   ]
  },
  {
   "cell_type": "markdown",
   "metadata": {},
   "source": [
    "# Clean Data\n",
    "\n",
    "* Remove urls\n",
    "* Remove user names\n",
    "* Remove line breaks\n",
    "* Group tweets and count retweets"
   ]
  },
  {
   "cell_type": "code",
   "execution_count": 5,
   "metadata": {},
   "outputs": [
    {
     "data": {
      "text/html": [
       "<div>\n",
       "<style>\n",
       "    .dataframe thead tr:only-child th {\n",
       "        text-align: right;\n",
       "    }\n",
       "\n",
       "    .dataframe thead th {\n",
       "        text-align: left;\n",
       "    }\n",
       "\n",
       "    .dataframe tbody tr th {\n",
       "        vertical-align: top;\n",
       "    }\n",
       "</style>\n",
       "<table border=\"1\" class=\"dataframe\">\n",
       "  <thead>\n",
       "    <tr style=\"text-align: right;\">\n",
       "      <th></th>\n",
       "      <th>text</th>\n",
       "      <th>retweets</th>\n",
       "    </tr>\n",
       "  </thead>\n",
       "  <tbody>\n",
       "    <tr>\n",
       "      <th>35805</th>\n",
       "      <td>This is great news amp makes me so happy😊 Sout...</td>\n",
       "      <td>1</td>\n",
       "    </tr>\n",
       "    <tr>\n",
       "      <th>22160</th>\n",
       "      <td>My bff is vegan if u still need people 😊 love ...</td>\n",
       "      <td>1</td>\n",
       "    </tr>\n",
       "    <tr>\n",
       "      <th>6595</th>\n",
       "      <td>Looooool Serena 😂😂😂😂  good night</td>\n",
       "      <td>2</td>\n",
       "    </tr>\n",
       "    <tr>\n",
       "      <th>8</th>\n",
       "      <td>This is what happens when you go vegan</td>\n",
       "      <td>353</td>\n",
       "    </tr>\n",
       "    <tr>\n",
       "      <th>12359</th>\n",
       "      <td>no one’s forcing you to be vegan susan</td>\n",
       "      <td>1</td>\n",
       "    </tr>\n",
       "  </tbody>\n",
       "</table>\n",
       "</div>"
      ],
      "text/plain": [
       "                                                    text  retweets\n",
       "35805  This is great news amp makes me so happy😊 Sout...         1\n",
       "22160  My bff is vegan if u still need people 😊 love ...         1\n",
       "6595                    Looooool Serena 😂😂😂😂  good night         2\n",
       "8                 This is what happens when you go vegan       353\n",
       "12359             no one’s forcing you to be vegan susan         1"
      ]
     },
     "execution_count": 5,
     "metadata": {},
     "output_type": "execute_result"
    }
   ],
   "source": [
    "import re\n",
    "from string import punctuation\n",
    "\n",
    "def clean_tweet(x):\n",
    "    x = x.strip()\n",
    "    x = re.sub(r'http\\S+', '', x, flags=re.MULTILINE)\n",
    "    x = re.sub(r'RT\\s@\\S+', '', x, flags=re.MULTILINE)\n",
    "    x = re.sub(r'@\\S+', '', x, flags=re.MULTILINE)\n",
    "    x = re.sub(r'\\n', '', x, flags=re.MULTILINE)\n",
    "    return (''.join(c for c in x if c not in punctuation+\"'\")).strip()\n",
    "\n",
    "mvp_tweets.tweets = mvp_tweets.tweets.apply(clean_tweet)\n",
    "\n",
    "mvp_tweets = (pd.DataFrame(mvp_tweets.tweets.value_counts())\n",
    "              .reset_index()\n",
    "              .rename(columns={'tweets':'retweets', 'index': 'text'}))\n",
    "mvp_tweets.sample(5)"
   ]
  },
  {
   "cell_type": "markdown",
   "metadata": {},
   "source": [
    "# *Come back for sentimental analysis (when I find a better libraries)*"
   ]
  },
  {
   "cell_type": "code",
   "execution_count": 6,
   "metadata": {
    "collapsed": true
   },
   "outputs": [],
   "source": [
    "# Import\n",
    "#from textblob import TextBlob\n",
    "\n",
    "# Create \"blobs\"\n",
    "#foo['textblob'] = foo.text.apply(TextBlob)\n",
    "#foo['sentiment'] = foo.text.apply(lambda x: TextBlob(x).sentiment)\n",
    "\n",
    "#foo.sample(5)"
   ]
  },
  {
   "cell_type": "markdown",
   "metadata": {},
   "source": [
    "# MVP Model 1\n",
    "* TF-IDF (sklearn)\n",
    "* LSA (gensim)"
   ]
  },
  {
   "cell_type": "code",
   "execution_count": 7,
   "metadata": {
    "collapsed": true
   },
   "outputs": [],
   "source": [
    "#import numpy as np\n",
    "#from nltk.tokenize import word_tokenize, wordpunct_tokenize, WhitespaceTokenizer\n",
    "#from nltk.chunk import ne_chunk\n",
    "#from nltk.tag import pos_tag\n",
    "\n",
    "# Text with some entities\n",
    "#sample_tweet = np.array(foo.text)\n",
    "#for t in sample_tweet[:5]:\n",
    "#    tokens = pos_tag(word_tokenize(t))\n",
    "#    entities = ne_chunk(tokens)\n",
    "\n",
    "#foo.text.apply(lambda x: pos_tag(word_tokenize(x)))\n",
    "\n"
   ]
  },
  {
   "cell_type": "markdown",
   "metadata": {},
   "source": [
    "## TF-IDF (sklearn)"
   ]
  },
  {
   "cell_type": "code",
   "execution_count": 6,
   "metadata": {
    "collapsed": true
   },
   "outputs": [],
   "source": [
    "from sklearn.feature_extraction import text\n",
    "\n",
    "my_stop_words = text.ENGLISH_STOP_WORDS.union([\"amp\", \"vegan\"])"
   ]
  },
  {
   "cell_type": "code",
   "execution_count": 7,
   "metadata": {
    "collapsed": true
   },
   "outputs": [],
   "source": [
    "# Import\n",
    "from sklearn.feature_extraction.text import TfidfVectorizer\n",
    "from nltk.stem.lancaster import LancasterStemmer\n",
    "\n",
    "# This uses WordNet (huge lexical database of English words)\n",
    "stemmer = LancasterStemmer()\n",
    "analyzer = CountVectorizer().build_analyzer()\n",
    "\n",
    "def stemmed_words(doc):\n",
    "    return (stemmer.stem(w) for w in analyzer(doc))\n",
    "\n",
    "# Create a vectorizer object to generate term document counts\n",
    "# Note all the parameters we can use, let's play!\n",
    "tfidf = TfidfVectorizer(token_pattern='[a-z][a-z]+',\n",
    "                        stop_words = my_stop_words, \n",
    "                        min_df=50, max_df=0.8, ngram_range=(1,1))\n",
    "                        #analyzer=stemmed_words)\n",
    "# Get the vectors\n",
    "sample_tweet_train = tfidf.fit_transform(mvp_tweets.text)\n",
    "# Store them in a Pandas DataFrame\n",
    "#sample_tweet_train_df = pd.DataFrame(sample_tweet_train.todense(), \n",
    "                           #columns=[tfidf.get_feature_names()])\n",
    "#sample_tweet_train_df.head()"
   ]
  },
  {
   "cell_type": "code",
   "execution_count": 8,
   "metadata": {},
   "outputs": [
    {
     "data": {
      "text/plain": [
       "1513"
      ]
     },
     "execution_count": 8,
     "metadata": {},
     "output_type": "execute_result"
    }
   ],
   "source": [
    "len(tfidf.get_feature_names())"
   ]
  },
  {
   "cell_type": "markdown",
   "metadata": {},
   "source": [
    "## LSA (gensim)"
   ]
  },
  {
   "cell_type": "code",
   "execution_count": 9,
   "metadata": {
    "collapsed": true
   },
   "outputs": [],
   "source": [
    "# Import\n",
    "from gensim import corpora, models, similarities, matutils"
   ]
  },
  {
   "cell_type": "code",
   "execution_count": 10,
   "metadata": {
    "collapsed": true
   },
   "outputs": [],
   "source": [
    "\n",
    "# Convert sparse matrix of counts to a gensim corpus\n",
    "# Need to transpose it for gensim which wants \n",
    "# terms by docs instead of docs by terms\n",
    "tfidf_corpus = matutils.Sparse2Corpus(sample_tweet_train.transpose())\n",
    "\n",
    "# Row indices\n",
    "id2word = dict((v, k) for k, v in tfidf.vocabulary_.items())\n",
    "\n",
    "# This is a hack for Python 3!\n",
    "id2word = corpora.Dictionary.from_corpus(tfidf_corpus, \n",
    "                                         id2word=id2word)"
   ]
  },
  {
   "cell_type": "code",
   "execution_count": 11,
   "metadata": {
    "collapsed": true
   },
   "outputs": [],
   "source": [
    "# Build an LSI space from the input TFIDF matrix, mapping of row id to word, and num_topics\n",
    "# num_topics is the number of dimensions to reduce to after the SVD\n",
    "# Analagous to \"fit\" in sklearn, it primes an LSI space\n",
    "lsi = models.LsiModel(tfidf_corpus, id2word=id2word, num_topics=300)"
   ]
  },
  {
   "cell_type": "code",
   "execution_count": 12,
   "metadata": {
    "collapsed": true
   },
   "outputs": [],
   "source": [
    "# Retrieve vectors for the original tfidf corpus in the LSI space (\"transform\" in sklearn)\n",
    "lsi_corpus = lsi[tfidf_corpus]\n",
    "\n",
    "# Dump the resulting document vectors into a list so we can take a look\n",
    "doc_vecs = [doc for doc in lsi_corpus]"
   ]
  },
  {
   "cell_type": "markdown",
   "metadata": {},
   "source": [
    "**Two most retweeted tweets have lots variation. Taking out these variation to see if a better insight is observed**"
   ]
  },
  {
   "cell_type": "code",
   "execution_count": 13,
   "metadata": {
    "collapsed": true
   },
   "outputs": [],
   "source": [
    "# Create an index transformer that calculates similarity based on \n",
    "# our space\n",
    "index = similarities.MatrixSimilarity(doc_vecs, \n",
    "                                      num_features=300)"
   ]
  },
  {
   "cell_type": "code",
   "execution_count": 14,
   "metadata": {
    "collapsed": true
   },
   "outputs": [],
   "source": [
    "# Return the sorted list of cosine similarities to the first document\n",
    "sims = sorted(enumerate(index[doc_vecs[67]]), key=lambda item: -item[1])"
   ]
  },
  {
   "cell_type": "code",
   "execution_count": 15,
   "metadata": {
    "collapsed": true
   },
   "outputs": [],
   "source": [
    "#similar_tweet = {}\n",
    "#similar_tweet[0] = []"
   ]
  },
  {
   "cell_type": "code",
   "execution_count": 16,
   "metadata": {},
   "outputs": [
    {
     "name": "stdout",
     "output_type": "stream",
     "text": [
      "people automatically assume that I’m really healthy because I’m a vegan but in reality i just had half of a bag of takis for dinner\n",
      "people automatically assume that I’m really healthy because I’m a vegan but in reality i just had half of a bag of takis f…\n",
      "VEGAN DINNER PARTY FOR 20 3 courses 4 people  via\n",
      "How To Really Get People To Go Vegan\n",
      "Can you really be a healthy vegan\n",
      "People really put “vegan” in their bio Is it ever that serious\n",
      "Day 4 of detox in the bag with vegan stuffed poblanos for dinner and a lime and ginger mocktail 🍸\n",
      "people really force their dogs amp cats to be vegan\n",
      "Habits of people who have achieved worklife balance  … vegan healthy fit\n",
      "agreed and also I really should just go the full vegan at this point\n",
      "Love my vegan stir fry yesterday evening vegan beautifulfood healthy healthyrecipe dinner\n",
      "Never trust those mom bloggers that claim their kids loved the healthy dinner they madeTheyve neglected to mention that their kids are paleovegan activistsmomlife\n",
      "Just found out theres some really dope vegan spots in Hollywood\n",
      "3 Healthy Vegan Dinner Ideas  HighProtein Recipes\n",
      "3 Healthy Vegan Dinner Ideas  HighProtein Recipes\n"
     ]
    }
   ],
   "source": [
    "for tweet, similarity in sims:\n",
    "    if similarity >= 0.5:\n",
    "        #pass\n",
    "        print(mvp_tweets.iloc[tweet, 0])\n",
    "        #similar_tweet[1].append(tweet)"
   ]
  },
  {
   "cell_type": "code",
   "execution_count": null,
   "metadata": {
    "collapsed": true
   },
   "outputs": [],
   "source": [
    "#mvp_tweets = mvp_tweets.drop(similar_tweet[0][1:], axis=0)\n",
    "#mvp_tweets = mvp_tweets.drop(similar_tweet[1][1:], axis=0)"
   ]
  },
  {
   "cell_type": "markdown",
   "metadata": {},
   "source": [
    "## TF-IDF v2 (sklearn)"
   ]
  },
  {
   "cell_type": "code",
   "execution_count": null,
   "metadata": {
    "collapsed": true
   },
   "outputs": [],
   "source": [
    "# Import\n",
    "from sklearn.feature_extraction.text import TfidfVectorizer\n",
    "# Create a vectorizer object to generate term document counts\n",
    "# Note all the parameters we can use, let's play!\n",
    "tfidf = TfidfVectorizer(token_pattern='[a-z][a-z]+',\n",
    "                                  stop_words = 'english', min_df=5, ngram_range=(1,2))\n",
    "                                  #analyzer=stemmed_words)\n",
    "# Get the vectors\n",
    "sample_tweet_train = tfidf.fit_transform(mvp_tweets.text)\n",
    "# Store them in a Pandas DataFrame\n",
    "#sample_tweet_train_df = pd.DataFrame(sample_tweet_train.todense(), \n",
    "                           #columns=[tfidf.get_feature_names()])\n",
    "#sample_tweet_train_df.head()"
   ]
  },
  {
   "cell_type": "code",
   "execution_count": null,
   "metadata": {
    "collapsed": true
   },
   "outputs": [],
   "source": [
    "sample_tweet_train"
   ]
  },
  {
   "cell_type": "markdown",
   "metadata": {},
   "source": [
    "## LSA v2 (gensim)"
   ]
  },
  {
   "cell_type": "code",
   "execution_count": null,
   "metadata": {
    "collapsed": true
   },
   "outputs": [],
   "source": [
    "# Import\n",
    "from gensim import corpora, models, similarities, matutils"
   ]
  },
  {
   "cell_type": "code",
   "execution_count": null,
   "metadata": {
    "collapsed": true
   },
   "outputs": [],
   "source": [
    "# Convert sparse matrix of counts to a gensim corpus\n",
    "# Need to transpose it for gensim which wants \n",
    "# terms by docs instead of docs by terms\n",
    "tfidf_corpus = matutils.Sparse2Corpus(sample_tweet_train.transpose())\n",
    "\n",
    "# Row indices\n",
    "id2word = dict((v, k) for k, v in tfidf.vocabulary_.items())\n",
    "\n",
    "# This is a hack for Python 3!\n",
    "id2word = corpora.Dictionary.from_corpus(tfidf_corpus, \n",
    "                                         id2word=id2word)"
   ]
  },
  {
   "cell_type": "code",
   "execution_count": null,
   "metadata": {
    "collapsed": true
   },
   "outputs": [],
   "source": [
    "# Build an LSI space from the input TFIDF matrix, mapping of row id to word, and num_topics\n",
    "# num_topics is the number of dimensions to reduce to after the SVD\n",
    "# Analagous to \"fit\" in sklearn, it primes an LSI space\n",
    "lsi = models.LsiModel(tfidf_corpus, id2word=id2word, num_topics=500)"
   ]
  },
  {
   "cell_type": "code",
   "execution_count": null,
   "metadata": {
    "collapsed": true
   },
   "outputs": [],
   "source": [
    "# Retrieve vectors for the original tfidf corpus in the LSI space (\"transform\" in sklearn)\n",
    "lsi_corpus = lsi[tfidf_corpus]\n",
    "\n",
    "# Dump the resulting document vectors into a list so we can take a look\n",
    "doc_vecs = [doc for doc in lsi_corpus]"
   ]
  },
  {
   "cell_type": "code",
   "execution_count": null,
   "metadata": {
    "collapsed": true
   },
   "outputs": [],
   "source": [
    "# Create an index transformer that calculates similarity based on \n",
    "# our space\n",
    "index = similarities.MatrixSimilarity(doc_vecs, \n",
    "                                      num_features=500)"
   ]
  },
  {
   "cell_type": "code",
   "execution_count": null,
   "metadata": {
    "collapsed": true
   },
   "outputs": [],
   "source": [
    "# Return the sorted list of cosine similarities to the first document\n",
    "sims = sorted(enumerate(index[doc_vecs[1]]), key=lambda item: -item[1])"
   ]
  },
  {
   "cell_type": "code",
   "execution_count": null,
   "metadata": {
    "collapsed": true
   },
   "outputs": [],
   "source": [
    "for tweet, similarity in sims:\n",
    "    if similarity >= 0.5:\n",
    "        pass\n",
    "        #print(mvp_tweets.iloc[tweet, 0])\n",
    "        #similar_tweet[1].append(tweet)"
   ]
  },
  {
   "cell_type": "markdown",
   "metadata": {},
   "source": [
    "# KMean"
   ]
  },
  {
   "cell_type": "code",
   "execution_count": 17,
   "metadata": {},
   "outputs": [
    {
     "data": {
      "text/plain": [
       "(51021, 300)"
      ]
     },
     "execution_count": 17,
     "metadata": {},
     "output_type": "execute_result"
    }
   ],
   "source": [
    "# Convert the gensim-style corpus vecs to a numpy array for sklearn manipulations\n",
    "ng_lsi = matutils.corpus2dense(lsi_corpus, num_terms=300).transpose()\n",
    "ng_lsi.shape"
   ]
  },
  {
   "cell_type": "code",
   "execution_count": 19,
   "metadata": {
    "collapsed": true
   },
   "outputs": [],
   "source": [
    "from sklearn.cluster import KMeans, MiniBatchKMeans"
   ]
  },
  {
   "cell_type": "code",
   "execution_count": 25,
   "metadata": {
    "collapsed": true
   },
   "outputs": [],
   "source": [
    "# Create KMeans\n",
    "kmeans = MiniBatchKMeans(n_clusters=35)\n",
    "\n",
    "# Cluster\n",
    "ng_lsi_clusters = kmeans.fit_predict(ng_lsi)"
   ]
  },
  {
   "cell_type": "code",
   "execution_count": 26,
   "metadata": {},
   "outputs": [
    {
     "name": "stdout",
     "output_type": "stream",
     "text": [
      "Nashville Hot Chicken Sauce Way Hot NonGMO GlutenFree AllNatural Vegan SugarFree\n",
      "What will you have for dinner  vegan recipes\n",
      "TBT  Oooou freestyle fathers savemusic hot16 hiphop rap positivevibes vegan interstellarrmusic 💯✊🏽\n",
      "IKEA adds plantbased hot dog to menu\n",
      "Wow Vegan amp Glutenfree Hot Cross Buns with  too👏👏👏💚💚🌱🌱\n",
      "IKEA Announces a New Vegan Hot Dog and We’re So Here for It  via\n",
      "Pizza but it turns out to be veganAlmost as disappointing as meeting a hot girl but she turns out to be vegan\n",
      "Hot cocoa season is in full swing  😄☕ Try these tasty vegan hot cocoa mixes\n",
      "Salted caramel vegan Easter hot chocolate spoonStir into a mug of hot coconut or almond milk for a delicious vegan hot chocolate 🍫☕easterdunkstirenjoyartispoonz\n",
      "Dinner Made some mutha fukkin stir frystirfry veggies vegan veganfoodshare wok dinner…\n",
      "IKEA Announces a New Vegan Hot Dog and We’re So Here for It\n",
      "Perfect for a spicy 🌶 creamy vegan dinner aloo gobi  my primrose hill kitchenvegan dinner\n",
      "i step into the vegan chati post an image of a pigeon in a hot dog buni am forcibly removed from vegan chat\n",
      "Infamous vegan sadie calgie put Nutella in her hot chocolate yesterday\n",
      "dinner every night 😍🤤\n",
      "How is Hot Cheetos not vegan it’s spicy cardboard 🤣🤣🤣\n",
      "Hot choc on tap all day in  HebdenBridge northern office ⛄️\n",
      "Anyone else as crazy about  vegan meatfree hot dogs as me Or am I the only one 🤪\n",
      "Made vegan hot dogs\n",
      "20 Vegan Dinner Ideas via\n",
      "Jammin out to  amp making a vegan dinner dangerousnight favband 🌱💟☮️🎧\n",
      "“I prefer organic vegan soy free hot dogs made from beans” me “do you call them bean dogs or hot beans”\n",
      "Had vegan hot dogs for dinner last night That was such a poor decision\n",
      "Mhhhhhhso delicious hot dogs\n",
      "day 2 of being vegan again i want hot cheetos\n",
      "Get out of the dinner rut  Check out these great vegan dinner ideas 20 Vegan Dinners you Should Make Tonight  via\n",
      "Ikea is launching a vegan hot dog\n",
      "only if they are vegan because of a hot chick\n",
      "vegan is  hot\n",
      "have vegan hot dogs And it’s pretty much perfect\n",
      "I two people there Plus a hot woman And a hot vegan Wheres the men\n",
      "Kyrie is vegan Good for her hot cheetos though 😋\n",
      "Chocolate Hot Chocolate “Macaccino” Vegan  Hot Chocolate “Macaccino” Vegan  One Green PlanetFull coverage\n",
      "This was my dinner last night vegan rosti with vegan cheese 😍 it didnt turn out so well cos I didnt have a muffin pan 😂🌱\n",
      "Yer vegan hot dogs grilled  🔥\n",
      "IKEA Announces a New Vegan Hot Dog\n",
      "Uhoh Vegan ninecourse dinner cruise ruined by greedy guests\n",
      "😁😁😁 vegan dinner parties aaaall the time\n",
      "takis are vegan but hot cheetos aren’t what an atrocity\n",
      "are hot cheetos not vegan\n",
      "Dinner  with mianorin and friendshealthychoices vegan veganchoices…\n",
      "Guns get you hot and you make the perfect Vegan\n",
      "Vegan Menus Are One of Vogue’s Top Wedding Trends  Your dinner options are expanding  via\n",
      "My sister made the best vegan dinner last night Real life has me thinking about being vegan\n",
      "Every vegan I know is smokin hot coincidence  I think NOT\n",
      "How to make the worlds best vegan hot dog\n",
      "When you don’t see one of your closest friends for a while and they take you out for a Vegan Birthday dinner last night 😍 Thank you  DecemberBdayInJanuary\n",
      "I once stood behind selfproclaimed vegan Matt Skiba at Hot Doug’s in Chicago and he ordered a real meat hot dog He also had a Louis Vuitton wallet How do you an Alk3 expert explain this This is not a joke Thanks\n",
      "15 Hot Breakfast Recipes to Wake You Up PoweredByPlant\n",
      "Ye all enjoy your vegan dinner from the supermarket aye 🛒🆘\n",
      "the best vegan hot cheetos are hot cheetos u eat in secret\n",
      "I had a vegan dinner last night and a vegan lunch today I guess I’m turning vegan\n",
      "had a bash at being a vegan for dinner\n",
      "Can I just take a second to say that Helen dressed as hot dog while serving vegan hot dogs is my absolute favourite\n",
      "We currently have 10 off our vegan lunch boxes and hot pots on   AlDesko approved or a quick  easy dinner option\n",
      "MY WIFE IS HOT\n",
      "Great to hear that  will introduce vegan hot dog\n",
      "Night cap is hot chocolate tonight diabetes nosugar plantbased lowcarb vegan…\n",
      "my vegan dinner is a spoon of peanutbutter frankly i cant afford anything else\n",
      "Oh boy hot pot man sounds like the vegan hot dog dude who would park his stand outside clubs at the end of the night when everybody’s southern accent was out Never thought about it but he’s got some stories I bet\n",
      "Dinner at Jazzy’s  Vegan Fajitas with homemade Guacamole\n",
      "vegan hot spot hunting – 022618 0430AM  foto\n",
      "Geometry film amp emotion This vegan can chill with the hot dog part because of those first 3 and because it’s fafeuler  hot dogs\n",
      "What’s better than afterdinner vegan hot chocolate  milkshake and writing 😍🙌🏻\n",
      "I think I may make a vegan dinner Thursday or Friday night 🤔\n",
      "Dinner tonight\n",
      "When You Invite A Vegan To Your Dinner Party  via\n",
      "Vegan Golden Milk Hot or Iced\n",
      "I didnt get a picture before digging in but I made vegan pizza for dinner last night and it was dank af\n",
      "making a bubbly vegan hot chocolate with a bunsen burner\n",
      "Thursday Night Dinner Potato amp Cauliflower Curry with rice vegan rentonvegan eatwithoutviolence\n",
      "blunt  vegan dinner  documentaries  good ass night ✨\n",
      "So in love with my Vegan dinner  StudentsOfTheWorld NUSISC18 NUS\n",
      "Tomorrow’s dinner\n",
      "the flamin hot puffs in the uk are vegan u can get them on amazon but theyre not the same they taste like a memory of eating hot cheetos\n",
      "So about last night vegan dinner I cooked YummmmmyVegan VeganStirFried WhiteRice…\n",
      "Vegan hot dogs for the win vegan\n",
      "☓ or 🍩  Either way weve got you covered 😁 Hot Cross Buns AND Hot Cross Donuts in store now Both Vegan\n",
      "Champs diner in Brooklyn it’s a vegan diner  Hot spot 🔥🔥🔥\n",
      "Having a vegan dinner 😋\n",
      "can someone please suggest me a vegan dupe of flaming hot cheetos besides Takis\n",
      "Being a vegan not working the 95 grind and being so immersed in crypto and the blockchain that I am quickly becoming the worst dinner guest off all timebitcoin crypto cryptocurrency blockchain ethereum dinner veganbtc eth neo xrp ltc ven icx\n",
      "I mean we already live in the same state Make me a good vegan dinner and we’ll see how the rest of the night goes 😈\n",
      "BREAKING NEWS vegan hot dogs are everything\n",
      "rate my vegan dinner 😋\n",
      "Atoning for dinner last night with a vegan home cooked meal  Jersey City New Jersey\n",
      "Last night dinner vegan spaghetti 🍝 with beyond meat crinkle and vegan Italian sausage and…\n",
      "We in 2018 amp we still dont have vegan hot Cheetos I need answers\n",
      "Is there such thing as a vegan hot cross bun plz 😖😖😖😭😭😭\n",
      "IKEA Announces a New Vegan Hot Dog and We’re So Here for ItReactions to the announcement of IKEAs new vegan hot dog were seriously off the chartsThe post IKEA Announces a New Vegan Hot Dog and We’re So Here for It appeared first on PE\n",
      "I will achieve some third eye shit when I become a vegan but mini pizzas and hot fries whisper my name in the night and Im a whore and will always go to them\n",
      "if i chew hot cheetos but don’t swallow them is that still vegan\n",
      "The dinner with the neighbors was so great hanging out with kids eating a vegan dinner\n",
      "I use cholula amp red hot because they’re vegan 🙃\n"
     ]
    }
   ],
   "source": [
    "for i, tweet in enumerate(mvp_tweets.text):\n",
    "    if ng_lsi_clusters[i] == 0:\n",
    "        print(tweet)"
   ]
  },
  {
   "cell_type": "code",
   "execution_count": 27,
   "metadata": {},
   "outputs": [
    {
     "data": {
      "text/plain": [
       "(array([  211.,  1815.,    59.,   569.,    69.,   506., 39869.,    98.,\n",
       "         1921.,   298.,   197.,   268.,  1253.,   984.,   561.,   214.,\n",
       "         1225.,   229.,   675.]),\n",
       " array([ 0.        ,  1.78947368,  3.57894737,  5.36842105,  7.15789474,\n",
       "         8.94736842, 10.73684211, 12.52631579, 14.31578947, 16.10526316,\n",
       "        17.89473684, 19.68421053, 21.47368421, 23.26315789, 25.05263158,\n",
       "        26.84210526, 28.63157895, 30.42105263, 32.21052632, 34.        ]),\n",
       " <a list of 19 Patch objects>)"
      ]
     },
     "execution_count": 27,
     "metadata": {},
     "output_type": "execute_result"
    },
    {
     "data": {
      "image/png": "[encoded data removed]",
      "text/plain": [
       "<matplotlib.figure.Figure at 0x7f4405bf4710>"
      ]
     },
     "metadata": {},
     "output_type": "display_data"
    }
   ],
   "source": [
    "import matplotlib.pyplot as plt\n",
    "%matplotlib inline\n",
    "\n",
    "plt.hist(ng_lsi_clusters, bins=19)"
   ]
  },
  {
   "cell_type": "code",
   "execution_count": 22,
   "metadata": {},
   "outputs": [
    {
     "data": {
      "text/plain": [
       "(51021, 300)"
      ]
     },
     "execution_count": 22,
     "metadata": {},
     "output_type": "execute_result"
    }
   ],
   "source": [
    "ng_lsi.shape"
   ]
  },
  {
   "cell_type": "code",
   "execution_count": 23,
   "metadata": {
    "collapsed": true
   },
   "outputs": [],
   "source": [
    "from sklearn.metrics import silhouette_score\n",
    "\n",
    "SSEs = []\n",
    "Sil_coefs = []\n",
    "for k in range(20,50):\n",
    "    #km = KMeans(n_clusters=k, random_state=1)\n",
    "    km = MiniBatchKMeans(n_clusters=k, random_state=54)\n",
    "    km.fit(ng_lsi)\n",
    "    labels = km.labels_\n",
    "    Sil_coefs.append(silhouette_score(ng_lsi, labels, metric='euclidean'))\n",
    "    SSEs.append(km.inertia_) \n",
    "    \n",
    "   # print(Sil_coefs)\n",
    "   # print(labels)"
   ]
  },
  {
   "cell_type": "code",
   "execution_count": 24,
   "metadata": {},
   "outputs": [
    {
     "data": {
      "image/png": "[encoded data removed]",
      "text/plain": [
       "<matplotlib.figure.Figure at 0x7f4405d92710>"
      ]
     },
     "metadata": {},
     "output_type": "display_data"
    }
   ],
   "source": [
    "fig, (ax1, ax2) = plt.subplots(1,2, figsize=(15,5), sharex=True, dpi=200)\n",
    "k_clusters = range(20,50)\n",
    "ax1.plot(k_clusters, Sil_coefs)\n",
    "ax1.set_xlabel('number of clusters')\n",
    "ax1.set_ylabel('silhouette coefficient')\n",
    "\n",
    "# plot here on ax2\n",
    "ax2.plot(k_clusters, SSEs)\n",
    "ax2.set_xlabel('number of clusters')\n",
    "ax2.set_ylabel('SSE');"
   ]
  },
  {
   "cell_type": "markdown",
   "metadata": {
    "collapsed": true
   },
   "source": [
    "# LDA"
   ]
  },
  {
   "cell_type": "code",
   "execution_count": 29,
   "metadata": {
    "collapsed": true
   },
   "outputs": [],
   "source": [
    "# Import\n",
    "from nltk.stem.lancaster import LancasterStemmer\n",
    "\n",
    "# This uses WordNet (huge lexical database of English words)\n",
    "stemmer = LancasterStemmer()\n",
    "analyzer = CountVectorizer().build_analyzer()\n",
    "\n",
    "def stemmed_words(doc):\n",
    "    return (stemmer.stem(w) for w in analyzer(doc))\n",
    "\n",
    "count_vectorizer = CountVectorizer(ngram_range=(1, 2),  \n",
    "                                  stop_words=my_stop_words, \n",
    "                                  token_pattern=\"\\\\b[a-z][a-z]+\\\\b\" )\n",
    "                                  #analyzer=stemmed_words)\n",
    "\n",
    "# Create a vectorizer object to generate term document counts\n",
    "# Note all the parameters we can use, let's play!\n",
    "#cv = CountVectorizer(token_pattern='[a-z][a-z]+',\n",
    "#                     stop_words = 'english')\n",
    "# Get the vectors\n",
    "count_vectorizer.fit(mvp_tweets.text)\n",
    "counts = count_vectorizer.transform(mvp_tweets.text).transpose()\n",
    "# Store them in a Pandas DataFrame\n",
    "#sample_tweet_train_df = pd.DataFrame(sample_tweet_train.todense(), columns=[stem_vectorizer.get_feature_names()])\n",
    "#ng_train_df.head()"
   ]
  },
  {
   "cell_type": "code",
   "execution_count": 30,
   "metadata": {
    "collapsed": true
   },
   "outputs": [],
   "source": [
    "corpus = matutils.Sparse2Corpus(counts)"
   ]
  },
  {
   "cell_type": "code",
   "execution_count": 31,
   "metadata": {
    "collapsed": true
   },
   "outputs": [],
   "source": [
    "id2word = dict((v, k) for k, v in count_vectorizer.vocabulary_.items())"
   ]
  },
  {
   "cell_type": "code",
   "execution_count": 32,
   "metadata": {
    "collapsed": true
   },
   "outputs": [],
   "source": [
    "lda = models.LdaModel(corpus=corpus, num_topics=5, id2word=id2word, passes=10)"
   ]
  },
  {
   "cell_type": "code",
   "execution_count": 34,
   "metadata": {},
   "outputs": [
    {
     "data": {
      "text/plain": [
       "[(0,\n",
       "  '0.005*\"video\" + 0.005*\"free\" + 0.004*\"food\" + 0.003*\"liked\" + 0.003*\"healthy\" + 0.003*\"protein\" + 0.003*\"liked video\" + 0.002*\"cooking\" + 0.002*\"health\" + 0.002*\"thanks\" + 0.002*\"like\" + 0.002*\"pizza\" + 0.002*\"chicken\" + 0.002*\"latest\" + 0.002*\"happy\" + 0.002*\"gluten\" + 0.002*\"recipe\" + 0.002*\"daily\" + 0.002*\"diet\" + 0.002*\"gluten free\"'),\n",
       " (1,\n",
       "  '0.006*\"recipe\" + 0.006*\"recipes\" + 0.004*\"glutenfree\" + 0.004*\"delicious\" + 0.004*\"vegetarian\" + 0.004*\"chocolate\" + 0.003*\"cream\" + 0.003*\"cheese\" + 0.003*\"plantbased\" + 0.003*\"easy\" + 0.003*\"healthy\" + 0.003*\"make\" + 0.003*\"food\" + 0.003*\"rt\" + 0.002*\"raw\" + 0.002*\"soup\" + 0.002*\"healthyfood\" + 0.002*\"ice\" + 0.002*\"new\" + 0.002*\"dinner\"'),\n",
       " (2,\n",
       "  '0.009*\"like\" + 0.008*\"just\" + 0.008*\"im\" + 0.007*\"eat\" + 0.005*\"meat\" + 0.005*\"food\" + 0.005*\"good\" + 0.005*\"going\" + 0.004*\"people\" + 0.004*\"know\" + 0.004*\"dont\" + 0.003*\"love\" + 0.003*\"want\" + 0.003*\"really\" + 0.003*\"make\" + 0.003*\"eating\" + 0.003*\"think\" + 0.003*\"try\" + 0.003*\"yes\" + 0.002*\"need\"'),\n",
       " (3,\n",
       "  '0.006*\"milk\" + 0.004*\"diet\" + 0.004*\"dairy\" + 0.003*\"plant\" + 0.003*\"just\" + 0.002*\"based\" + 0.002*\"meat\" + 0.002*\"animals\" + 0.002*\"animal\" + 0.002*\"plantbased\" + 0.002*\"govegan\" + 0.002*\"vegans\" + 0.002*\"februdairy\" + 0.002*\"plant based\" + 0.001*\"people\" + 0.001*\"vegetarian\" + 0.001*\"new\" + 0.001*\"cows\" + 0.001*\"health\" + 0.001*\"veganism\"'),\n",
       " (4,\n",
       "  '0.004*\"organic\" + 0.003*\"new\" + 0.003*\"use\" + 0.002*\"crueltyfree\" + 0.002*\"beauty\" + 0.002*\"natural\" + 0.002*\"products\" + 0.002*\"health\" + 0.002*\"skin\" + 0.002*\"save\" + 0.002*\"makeup\" + 0.002*\"shop\" + 0.002*\"skincare\" + 0.002*\"love\" + 0.002*\"free\" + 0.001*\"food\" + 0.001*\"code\" + 0.001*\"supplements\" + 0.001*\"check\" + 0.001*\"bag\"')]"
      ]
     },
     "execution_count": 34,
     "metadata": {},
     "output_type": "execute_result"
    }
   ],
   "source": [
    "lda.print_topics(num_words=20)\n"
   ]
  },
  {
   "cell_type": "markdown",
   "metadata": {
    "collapsed": true
   },
   "source": [
    "# Conclusion\n",
    "\n",
    "* I don't have anything insightful. I'm going to try using spacy to preprocess tweet then fit the model again.\n",
    "\n",
    "* *ignore below, WIP*"
   ]
  },
  {
   "cell_type": "code",
   "execution_count": null,
   "metadata": {
    "collapsed": true
   },
   "outputs": [],
   "source": [
    "import spacy\n",
    "\n",
    "nlp = spacy.load('en')"
   ]
  },
  {
   "cell_type": "code",
   "execution_count": null,
   "metadata": {
    "collapsed": true
   },
   "outputs": [],
   "source": [
    "a = nlp(foo.iloc[0,0])\n",
    "\n",
    "print('token')\n",
    "for token in a:\n",
    "    print(token)\n",
    "print('noun chunks')\n",
    "for b in a.noun_chunks:\n",
    "    print(b)"
   ]
  },
  {
   "cell_type": "code",
   "execution_count": null,
   "metadata": {
    "collapsed": true
   },
   "outputs": [],
   "source": [
    "pos_dict = {}\n",
    "\n",
    "for tweet in np.array(foo.text):\n",
    "    doc = nlp(tweet)\n",
    "\n",
    "    for token in doc:        \n",
    "        if token.is_alpha & ~token.is_stop:\n",
    "            pos = token.pos_\n",
    "            lemma = token.lemma_\n",
    "            \n",
    "            if pos not in pos_dict.keys():\n",
    "                pos_dict[pos] = {}\n",
    "                pos_dict[pos][lemma] = 1\n",
    "            elif lemma not in pos_dict[pos].keys():\n",
    "                pos_dict[pos][lemma] = 1\n",
    "            else:\n",
    "                pos_dict[pos][lemma] += 1\n",
    "                "
   ]
  },
  {
   "cell_type": "code",
   "execution_count": null,
   "metadata": {
    "collapsed": true
   },
   "outputs": [],
   "source": [
    "pos_dict.keys()"
   ]
  },
  {
   "cell_type": "code",
   "execution_count": null,
   "metadata": {
    "collapsed": true
   },
   "outputs": [],
   "source": [
    "import operator\n",
    "sorted_x = sorted(pos_dict['ADJ'].items(), key=operator.itemgetter(1))"
   ]
  },
  {
   "cell_type": "code",
   "execution_count": null,
   "metadata": {
    "collapsed": true
   },
   "outputs": [],
   "source": [
    "sorted_x[-50:]"
   ]
  },
  {
   "cell_type": "code",
   "execution_count": null,
   "metadata": {
    "collapsed": true
   },
   "outputs": [],
   "source": [
    "for ent in a.ents:\n",
    "    print(ent.text, ent.start_char, ent.end_char, ent.label_)"
   ]
  },
  {
   "cell_type": "code",
   "execution_count": null,
   "metadata": {
    "collapsed": true
   },
   "outputs": [],
   "source": [
    "ent_dict = {}\n",
    "\n",
    "for tweet in np.array(foo.text):\n",
    "    doc = nlp(tweet)\n",
    "\n",
    "    for ent in doc.ents:   \n",
    "        label = ent.label_\n",
    "        text = ent.text\n",
    "        if ent.label_ not in ent_dict.keys():\n",
    "            ent_dict[label] = {}\n",
    "            ent_dict[label][text] = 1\n",
    "        elif text not in ent_dict[label].keys():\n",
    "            ent_dict[label][text] = 1\n",
    "        else:\n",
    "            ent_dict[label][text] += 1\n",
    "                "
   ]
  },
  {
   "cell_type": "code",
   "execution_count": null,
   "metadata": {
    "collapsed": true
   },
   "outputs": [],
   "source": [
    "ent_dict.keys()"
   ]
  },
  {
   "cell_type": "code",
   "execution_count": null,
   "metadata": {
    "collapsed": true
   },
   "outputs": [],
   "source": [
    "import operator\n",
    "sorted_x = sorted(ent_dict['LOC'].items(), key=operator.itemgetter(1))"
   ]
  },
  {
   "cell_type": "code",
   "execution_count": null,
   "metadata": {
    "collapsed": true
   },
   "outputs": [],
   "source": [
    "sorted_x[-50:]"
   ]
  },
  {
   "cell_type": "code",
   "execution_count": null,
   "metadata": {
    "collapsed": true
   },
   "outputs": [],
   "source": [
    "for tweet in np.array(foo.text):\n",
    "    doc = nlp(tweet)\n",
    "\n",
    "    for noun_chunks in doc.noun_chunks:   \n",
    "        if noun_chunks not in pos_dict['NOUN'].keys():\n",
    "            pos_dict['NOUN'][noun_chunks] = 1\n",
    "        else:\n",
    "            pos_dict['NOUN'][noun_chunks] = 1"
   ]
  },
  {
   "cell_type": "code",
   "execution_count": null,
   "metadata": {
    "collapsed": true
   },
   "outputs": [],
   "source": [
    "import operator\n",
    "sorted_x = sorted(pos_dict['NOUN'].items(), key=operator.itemgetter(1))\n",
    "sorted_x.reverse()"
   ]
  },
  {
   "cell_type": "code",
   "execution_count": null,
   "metadata": {
    "collapsed": true
   },
   "outputs": [],
   "source": []
  }
 ],
 "metadata": {
  "kernelspec": {
   "display_name": "Python 3",
   "language": "python",
   "name": "python3"
  },
  "language_info": {
   "codemirror_mode": {
    "name": "ipython",
    "version": 3
   },
   "file_extension": ".py",
   "mimetype": "text/x-python",
   "name": "python",
   "nbconvert_exporter": "python",
   "pygments_lexer": "ipython3",
   "version": "3.6.3"
  }
 },
 "nbformat": 4,
 "nbformat_minor": 2
}
